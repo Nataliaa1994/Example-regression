{
  "nbformat": 4,
  "nbformat_minor": 0,
  "metadata": {
    "colab": {
      "name": "Untitled4.ipynb",
      "provenance": [],
      "collapsed_sections": [],
      "authorship_tag": "ABX9TyMCfhao/mpQFzcZYc1/i5cb",
      "include_colab_link": true
    },
    "kernelspec": {
      "name": "python3",
      "display_name": "Python 3"
    }
  },
  "cells": [
    {
      "cell_type": "markdown",
      "metadata": {
        "id": "view-in-github",
        "colab_type": "text"
      },
      "source": [
        "<a href=\"https://colab.research.google.com/github/Nataliaa1994/Example-regression/blob/master/regression.ipynb\" target=\"_parent\"><img src=\"https://colab.research.google.com/assets/colab-badge.svg\" alt=\"Open In Colab\"/></a>"
      ]
    },
    {
      "cell_type": "code",
      "metadata": {
        "id": "fKFHzfzFmaJR",
        "colab_type": "code",
        "colab": {
          "base_uri": "https://localhost:8080/",
          "height": 36
        },
        "outputId": "33d7a1a4-9d7a-4ba9-d782-0b4b7d1228ce"
      },
      "source": [
        "import numpy as np\n",
        "import pandas as pd\n",
        "import matplotlib.pyplot as plt\n",
        "import seaborn as sns\n",
        "import sklearn\n",
        "\n",
        "sns.set(font_scale=1.3)\n",
        "sklearn.__version__"
      ],
      "execution_count": 81,
      "outputs": [
        {
          "output_type": "execute_result",
          "data": {
            "application/vnd.google.colaboratory.intrinsic+json": {
              "type": "string"
            },
            "text/plain": [
              "'0.22.2.post1'"
            ]
          },
          "metadata": {
            "tags": []
          },
          "execution_count": 81
        }
      ]
    },
    {
      "cell_type": "code",
      "metadata": {
        "id": "Ady4P39zondG",
        "colab_type": "code",
        "colab": {}
      },
      "source": [
        "from google.colab import files"
      ],
      "execution_count": 82,
      "outputs": []
    },
    {
      "cell_type": "code",
      "metadata": {
        "id": "Y61hXYXgopup",
        "colab_type": "code",
        "colab": {
          "resources": {
            "http://localhost:8080/nbextensions/google.colab/files.js": {
              "data": "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",
              "ok": true,
              "headers": [
                [
                  "content-type",
                  "application/javascript"
                ]
              ],
              "status": 200,
              "status_text": "OK"
            }
          },
          "base_uri": "https://localhost:8080/",
          "height": 73
        },
        "outputId": "ce4dbad2-7ade-4204-ac0e-9ca7c60368be"
      },
      "source": [
        "uploaded=files.upload()"
      ],
      "execution_count": 83,
      "outputs": [
        {
          "output_type": "display_data",
          "data": {
            "text/html": [
              "\n",
              "     <input type=\"file\" id=\"files-aa2d160f-670d-4824-8c20-a2149283ae01\" name=\"files[]\" multiple disabled\n",
              "        style=\"border:none\" />\n",
              "     <output id=\"result-aa2d160f-670d-4824-8c20-a2149283ae01\">\n",
              "      Upload widget is only available when the cell has been executed in the\n",
              "      current browser session. Please rerun this cell to enable.\n",
              "      </output>\n",
              "      <script src=\"/nbextensions/google.colab/files.js\"></script> "
            ],
            "text/plain": [
              "<IPython.core.display.HTML object>"
            ]
          },
          "metadata": {
            "tags": []
          }
        },
        {
          "output_type": "stream",
          "text": [
            "Saving Employee Satisfaction Index.csv to Employee Satisfaction Index (2).csv\n"
          ],
          "name": "stdout"
        }
      ]
    },
    {
      "cell_type": "code",
      "metadata": {
        "id": "f0RA-cViowKR",
        "colab_type": "code",
        "colab": {}
      },
      "source": [
        "import io\n",
        "raw_data = pd.read_csv(io.StringIO(uploaded['Employee Satisfaction Index.csv'].decode('utf-8')))\n",
        "raw_data = pd.read_csv('Employee Satisfaction Index.csv')"
      ],
      "execution_count": 84,
      "outputs": []
    },
    {
      "cell_type": "code",
      "metadata": {
        "id": "Zs0gkkKko6QR",
        "colab_type": "code",
        "colab": {
          "base_uri": "https://localhost:8080/",
          "height": 206
        },
        "outputId": "3b7e62e0-ea34-4941-fb0a-92fd81742388"
      },
      "source": [
        "raw_data.head()"
      ],
      "execution_count": 85,
      "outputs": [
        {
          "output_type": "execute_result",
          "data": {
            "text/html": [
              "<div>\n",
              "<style scoped>\n",
              "    .dataframe tbody tr th:only-of-type {\n",
              "        vertical-align: middle;\n",
              "    }\n",
              "\n",
              "    .dataframe tbody tr th {\n",
              "        vertical-align: top;\n",
              "    }\n",
              "\n",
              "    .dataframe thead th {\n",
              "        text-align: right;\n",
              "    }\n",
              "</style>\n",
              "<table border=\"1\" class=\"dataframe\">\n",
              "  <thead>\n",
              "    <tr style=\"text-align: right;\">\n",
              "      <th></th>\n",
              "      <th>Unnamed: 0</th>\n",
              "      <th>emp_id</th>\n",
              "      <th>age</th>\n",
              "      <th>Dept</th>\n",
              "      <th>location</th>\n",
              "      <th>education</th>\n",
              "      <th>recruitment_type</th>\n",
              "      <th>job_level</th>\n",
              "      <th>rating</th>\n",
              "      <th>onsite</th>\n",
              "      <th>awards</th>\n",
              "      <th>certifications</th>\n",
              "      <th>salary</th>\n",
              "      <th>satisfied</th>\n",
              "    </tr>\n",
              "  </thead>\n",
              "  <tbody>\n",
              "    <tr>\n",
              "      <th>0</th>\n",
              "      <td>0</td>\n",
              "      <td>HR8270</td>\n",
              "      <td>28</td>\n",
              "      <td>HR</td>\n",
              "      <td>Suburb</td>\n",
              "      <td>PG</td>\n",
              "      <td>Referral</td>\n",
              "      <td>5</td>\n",
              "      <td>2</td>\n",
              "      <td>0</td>\n",
              "      <td>1</td>\n",
              "      <td>0</td>\n",
              "      <td>86750</td>\n",
              "      <td>1</td>\n",
              "    </tr>\n",
              "    <tr>\n",
              "      <th>1</th>\n",
              "      <td>1</td>\n",
              "      <td>TECH1860</td>\n",
              "      <td>50</td>\n",
              "      <td>Technology</td>\n",
              "      <td>Suburb</td>\n",
              "      <td>PG</td>\n",
              "      <td>Walk-in</td>\n",
              "      <td>3</td>\n",
              "      <td>5</td>\n",
              "      <td>1</td>\n",
              "      <td>2</td>\n",
              "      <td>1</td>\n",
              "      <td>42419</td>\n",
              "      <td>0</td>\n",
              "    </tr>\n",
              "    <tr>\n",
              "      <th>2</th>\n",
              "      <td>2</td>\n",
              "      <td>TECH6390</td>\n",
              "      <td>43</td>\n",
              "      <td>Technology</td>\n",
              "      <td>Suburb</td>\n",
              "      <td>UG</td>\n",
              "      <td>Referral</td>\n",
              "      <td>4</td>\n",
              "      <td>1</td>\n",
              "      <td>0</td>\n",
              "      <td>2</td>\n",
              "      <td>0</td>\n",
              "      <td>65715</td>\n",
              "      <td>0</td>\n",
              "    </tr>\n",
              "    <tr>\n",
              "      <th>3</th>\n",
              "      <td>3</td>\n",
              "      <td>SAL6191</td>\n",
              "      <td>44</td>\n",
              "      <td>Sales</td>\n",
              "      <td>City</td>\n",
              "      <td>PG</td>\n",
              "      <td>On-Campus</td>\n",
              "      <td>2</td>\n",
              "      <td>3</td>\n",
              "      <td>1</td>\n",
              "      <td>0</td>\n",
              "      <td>0</td>\n",
              "      <td>29805</td>\n",
              "      <td>1</td>\n",
              "    </tr>\n",
              "    <tr>\n",
              "      <th>4</th>\n",
              "      <td>4</td>\n",
              "      <td>HR6734</td>\n",
              "      <td>33</td>\n",
              "      <td>HR</td>\n",
              "      <td>City</td>\n",
              "      <td>UG</td>\n",
              "      <td>Recruitment Agency</td>\n",
              "      <td>2</td>\n",
              "      <td>1</td>\n",
              "      <td>0</td>\n",
              "      <td>5</td>\n",
              "      <td>0</td>\n",
              "      <td>29805</td>\n",
              "      <td>1</td>\n",
              "    </tr>\n",
              "  </tbody>\n",
              "</table>\n",
              "</div>"
            ],
            "text/plain": [
              "   Unnamed: 0    emp_id  age  ... certifications salary satisfied\n",
              "0           0    HR8270   28  ...              0  86750         1\n",
              "1           1  TECH1860   50  ...              1  42419         0\n",
              "2           2  TECH6390   43  ...              0  65715         0\n",
              "3           3   SAL6191   44  ...              0  29805         1\n",
              "4           4    HR6734   33  ...              0  29805         1\n",
              "\n",
              "[5 rows x 14 columns]"
            ]
          },
          "metadata": {
            "tags": []
          },
          "execution_count": 85
        }
      ]
    },
    {
      "cell_type": "code",
      "metadata": {
        "id": "I6AFVc2to_IG",
        "colab_type": "code",
        "colab": {
          "base_uri": "https://localhost:8080/",
          "height": 408
        },
        "outputId": "c4118d2a-d843-400b-8a7a-1afe912ac620"
      },
      "source": [
        "raw_data.info()"
      ],
      "execution_count": 86,
      "outputs": [
        {
          "output_type": "stream",
          "text": [
            "<class 'pandas.core.frame.DataFrame'>\n",
            "RangeIndex: 500 entries, 0 to 499\n",
            "Data columns (total 14 columns):\n",
            " #   Column            Non-Null Count  Dtype \n",
            "---  ------            --------------  ----- \n",
            " 0   Unnamed: 0        500 non-null    int64 \n",
            " 1   emp_id            500 non-null    object\n",
            " 2   age               500 non-null    int64 \n",
            " 3   Dept              500 non-null    object\n",
            " 4   location          500 non-null    object\n",
            " 5   education         500 non-null    object\n",
            " 6   recruitment_type  500 non-null    object\n",
            " 7   job_level         500 non-null    int64 \n",
            " 8   rating            500 non-null    int64 \n",
            " 9   onsite            500 non-null    int64 \n",
            " 10  awards            500 non-null    int64 \n",
            " 11  certifications    500 non-null    int64 \n",
            " 12  salary            500 non-null    int64 \n",
            " 13  satisfied         500 non-null    int64 \n",
            "dtypes: int64(9), object(5)\n",
            "memory usage: 54.8+ KB\n"
          ],
          "name": "stdout"
        }
      ]
    },
    {
      "cell_type": "code",
      "metadata": {
        "id": "c4aF-oujpCyx",
        "colab_type": "code",
        "colab": {
          "base_uri": "https://localhost:8080/",
          "height": 331
        },
        "outputId": "c7df7f14-6363-4eeb-ca97-a67b1c53d164"
      },
      "source": [
        "raw_data.describe().T"
      ],
      "execution_count": null,
      "outputs": [
        {
          "output_type": "execute_result",
          "data": {
            "text/html": [
              "<div>\n",
              "<style scoped>\n",
              "    .dataframe tbody tr th:only-of-type {\n",
              "        vertical-align: middle;\n",
              "    }\n",
              "\n",
              "    .dataframe tbody tr th {\n",
              "        vertical-align: top;\n",
              "    }\n",
              "\n",
              "    .dataframe thead th {\n",
              "        text-align: right;\n",
              "    }\n",
              "</style>\n",
              "<table border=\"1\" class=\"dataframe\">\n",
              "  <thead>\n",
              "    <tr style=\"text-align: right;\">\n",
              "      <th></th>\n",
              "      <th>count</th>\n",
              "      <th>mean</th>\n",
              "      <th>std</th>\n",
              "      <th>min</th>\n",
              "      <th>25%</th>\n",
              "      <th>50%</th>\n",
              "      <th>75%</th>\n",
              "      <th>max</th>\n",
              "    </tr>\n",
              "  </thead>\n",
              "  <tbody>\n",
              "    <tr>\n",
              "      <th>Unnamed: 0</th>\n",
              "      <td>500.0</td>\n",
              "      <td>249.500</td>\n",
              "      <td>144.481833</td>\n",
              "      <td>0.0</td>\n",
              "      <td>124.75</td>\n",
              "      <td>249.5</td>\n",
              "      <td>374.25</td>\n",
              "      <td>499.0</td>\n",
              "    </tr>\n",
              "    <tr>\n",
              "      <th>age</th>\n",
              "      <td>500.0</td>\n",
              "      <td>38.610</td>\n",
              "      <td>9.438648</td>\n",
              "      <td>23.0</td>\n",
              "      <td>30.00</td>\n",
              "      <td>39.0</td>\n",
              "      <td>47.00</td>\n",
              "      <td>54.0</td>\n",
              "    </tr>\n",
              "    <tr>\n",
              "      <th>job_level</th>\n",
              "      <td>500.0</td>\n",
              "      <td>3.032</td>\n",
              "      <td>1.423738</td>\n",
              "      <td>1.0</td>\n",
              "      <td>2.00</td>\n",
              "      <td>3.0</td>\n",
              "      <td>4.00</td>\n",
              "      <td>5.0</td>\n",
              "    </tr>\n",
              "    <tr>\n",
              "      <th>rating</th>\n",
              "      <td>500.0</td>\n",
              "      <td>3.072</td>\n",
              "      <td>1.425089</td>\n",
              "      <td>1.0</td>\n",
              "      <td>2.00</td>\n",
              "      <td>3.0</td>\n",
              "      <td>4.00</td>\n",
              "      <td>5.0</td>\n",
              "    </tr>\n",
              "    <tr>\n",
              "      <th>onsite</th>\n",
              "      <td>500.0</td>\n",
              "      <td>0.466</td>\n",
              "      <td>0.499342</td>\n",
              "      <td>0.0</td>\n",
              "      <td>0.00</td>\n",
              "      <td>0.0</td>\n",
              "      <td>1.00</td>\n",
              "      <td>1.0</td>\n",
              "    </tr>\n",
              "    <tr>\n",
              "      <th>awards</th>\n",
              "      <td>500.0</td>\n",
              "      <td>4.538</td>\n",
              "      <td>2.853215</td>\n",
              "      <td>0.0</td>\n",
              "      <td>2.00</td>\n",
              "      <td>5.0</td>\n",
              "      <td>7.00</td>\n",
              "      <td>9.0</td>\n",
              "    </tr>\n",
              "    <tr>\n",
              "      <th>certifications</th>\n",
              "      <td>500.0</td>\n",
              "      <td>0.496</td>\n",
              "      <td>0.500485</td>\n",
              "      <td>0.0</td>\n",
              "      <td>0.00</td>\n",
              "      <td>0.0</td>\n",
              "      <td>1.00</td>\n",
              "      <td>1.0</td>\n",
              "    </tr>\n",
              "    <tr>\n",
              "      <th>salary</th>\n",
              "      <td>500.0</td>\n",
              "      <td>50416.056</td>\n",
              "      <td>23671.392661</td>\n",
              "      <td>24076.0</td>\n",
              "      <td>29805.00</td>\n",
              "      <td>42419.0</td>\n",
              "      <td>65715.00</td>\n",
              "      <td>86750.0</td>\n",
              "    </tr>\n",
              "    <tr>\n",
              "      <th>satisfied</th>\n",
              "      <td>500.0</td>\n",
              "      <td>0.526</td>\n",
              "      <td>0.499824</td>\n",
              "      <td>0.0</td>\n",
              "      <td>0.00</td>\n",
              "      <td>1.0</td>\n",
              "      <td>1.00</td>\n",
              "      <td>1.0</td>\n",
              "    </tr>\n",
              "  </tbody>\n",
              "</table>\n",
              "</div>"
            ],
            "text/plain": [
              "                count       mean           std  ...      50%       75%      max\n",
              "Unnamed: 0      500.0    249.500    144.481833  ...    249.5    374.25    499.0\n",
              "age             500.0     38.610      9.438648  ...     39.0     47.00     54.0\n",
              "job_level       500.0      3.032      1.423738  ...      3.0      4.00      5.0\n",
              "rating          500.0      3.072      1.425089  ...      3.0      4.00      5.0\n",
              "onsite          500.0      0.466      0.499342  ...      0.0      1.00      1.0\n",
              "awards          500.0      4.538      2.853215  ...      5.0      7.00      9.0\n",
              "certifications  500.0      0.496      0.500485  ...      0.0      1.00      1.0\n",
              "salary          500.0  50416.056  23671.392661  ...  42419.0  65715.00  86750.0\n",
              "satisfied       500.0      0.526      0.499824  ...      1.0      1.00      1.0\n",
              "\n",
              "[9 rows x 8 columns]"
            ]
          },
          "metadata": {
            "tags": []
          },
          "execution_count": 7
        }
      ]
    },
    {
      "cell_type": "code",
      "metadata": {
        "id": "reyXoWcTpIPn",
        "colab_type": "code",
        "colab": {
          "base_uri": "https://localhost:8080/",
          "height": 297
        },
        "outputId": "cb2135a4-5675-48f9-af12-0f8b860de8e8"
      },
      "source": [
        "nulls_summary = pd.DataFrame(raw_data.isnull().any(), columns=['Nulls'])   \n",
        "nulls_summary['Num_of_nulls [qty]'] = pd.DataFrame(raw_data.isnull().sum())   \n",
        "nulls_summary['Num_of_nulls [%]'] = round((raw_data.isnull().mean()*100),2)   \n",
        "print(nulls_summary) "
      ],
      "execution_count": 87,
      "outputs": [
        {
          "output_type": "stream",
          "text": [
            "                  Nulls  Num_of_nulls [qty]  Num_of_nulls [%]\n",
            "Unnamed: 0        False                   0               0.0\n",
            "emp_id            False                   0               0.0\n",
            "age               False                   0               0.0\n",
            "Dept              False                   0               0.0\n",
            "location          False                   0               0.0\n",
            "education         False                   0               0.0\n",
            "recruitment_type  False                   0               0.0\n",
            "job_level         False                   0               0.0\n",
            "rating            False                   0               0.0\n",
            "onsite            False                   0               0.0\n",
            "awards            False                   0               0.0\n",
            "certifications    False                   0               0.0\n",
            "salary            False                   0               0.0\n",
            "satisfied         False                   0               0.0\n"
          ],
          "name": "stdout"
        }
      ]
    },
    {
      "cell_type": "code",
      "metadata": {
        "id": "ulVtLIlkpPVi",
        "colab_type": "code",
        "colab": {
          "base_uri": "https://localhost:8080/",
          "height": 73
        },
        "outputId": "a1c3db8b-f036-4b76-8218-e8486c34bbce"
      },
      "source": [
        "raw_data['education'].value_counts()"
      ],
      "execution_count": 36,
      "outputs": [
        {
          "output_type": "execute_result",
          "data": {
            "text/plain": [
              "PG    254\n",
              "UG    246\n",
              "Name: education, dtype: int64"
            ]
          },
          "metadata": {
            "tags": []
          },
          "execution_count": 36
        }
      ]
    },
    {
      "cell_type": "code",
      "metadata": {
        "id": "vdtA2PKDpXj7",
        "colab_type": "code",
        "colab": {
          "base_uri": "https://localhost:8080/",
          "height": 110
        },
        "outputId": "c3800703-5568-4cfd-e88a-14b26977fb52"
      },
      "source": [
        "raw_data['recruitment_type'].value_counts()"
      ],
      "execution_count": 37,
      "outputs": [
        {
          "output_type": "execute_result",
          "data": {
            "text/plain": [
              "On-Campus             133\n",
              "Referral              131\n",
              "Walk-in               128\n",
              "Recruitment Agency    108\n",
              "Name: recruitment_type, dtype: int64"
            ]
          },
          "metadata": {
            "tags": []
          },
          "execution_count": 37
        }
      ]
    },
    {
      "cell_type": "code",
      "metadata": {
        "id": "eGQn4TBQpke1",
        "colab_type": "code",
        "colab": {
          "base_uri": "https://localhost:8080/",
          "height": 72
        },
        "outputId": "b6f33439-419e-45a1-bef6-1f42cb7dbd9e"
      },
      "source": [
        "raw_data['location'].value_counts()"
      ],
      "execution_count": null,
      "outputs": [
        {
          "output_type": "execute_result",
          "data": {
            "text/plain": [
              "City      259\n",
              "Suburb    241\n",
              "Name: location, dtype: int64"
            ]
          },
          "metadata": {
            "tags": []
          },
          "execution_count": 11
        }
      ]
    },
    {
      "cell_type": "code",
      "metadata": {
        "id": "Kh3iG7H1pmOk",
        "colab_type": "code",
        "colab": {
          "base_uri": "https://localhost:8080/",
          "height": 127
        },
        "outputId": "eef3c813-0110-4323-f441-a284968cc5cd"
      },
      "source": [
        "raw_data['Dept'].value_counts()"
      ],
      "execution_count": null,
      "outputs": [
        {
          "output_type": "execute_result",
          "data": {
            "text/plain": [
              "Purchasing    109\n",
              "HR            106\n",
              "Technology     98\n",
              "Marketing      95\n",
              "Sales          92\n",
              "Name: Dept, dtype: int64"
            ]
          },
          "metadata": {
            "tags": []
          },
          "execution_count": 7
        }
      ]
    },
    {
      "cell_type": "code",
      "metadata": {
        "id": "IekiwnJMqOi9",
        "colab_type": "code",
        "colab": {
          "base_uri": "https://localhost:8080/",
          "height": 455
        },
        "outputId": "819e730c-99ce-4af4-c727-4b6c94f0b38e"
      },
      "source": [
        "raw_data.set_index(['emp_id'])"
      ],
      "execution_count": 88,
      "outputs": [
        {
          "output_type": "execute_result",
          "data": {
            "text/html": [
              "<div>\n",
              "<style scoped>\n",
              "    .dataframe tbody tr th:only-of-type {\n",
              "        vertical-align: middle;\n",
              "    }\n",
              "\n",
              "    .dataframe tbody tr th {\n",
              "        vertical-align: top;\n",
              "    }\n",
              "\n",
              "    .dataframe thead th {\n",
              "        text-align: right;\n",
              "    }\n",
              "</style>\n",
              "<table border=\"1\" class=\"dataframe\">\n",
              "  <thead>\n",
              "    <tr style=\"text-align: right;\">\n",
              "      <th></th>\n",
              "      <th>Unnamed: 0</th>\n",
              "      <th>age</th>\n",
              "      <th>Dept</th>\n",
              "      <th>location</th>\n",
              "      <th>education</th>\n",
              "      <th>recruitment_type</th>\n",
              "      <th>job_level</th>\n",
              "      <th>rating</th>\n",
              "      <th>onsite</th>\n",
              "      <th>awards</th>\n",
              "      <th>certifications</th>\n",
              "      <th>salary</th>\n",
              "      <th>satisfied</th>\n",
              "    </tr>\n",
              "    <tr>\n",
              "      <th>emp_id</th>\n",
              "      <th></th>\n",
              "      <th></th>\n",
              "      <th></th>\n",
              "      <th></th>\n",
              "      <th></th>\n",
              "      <th></th>\n",
              "      <th></th>\n",
              "      <th></th>\n",
              "      <th></th>\n",
              "      <th></th>\n",
              "      <th></th>\n",
              "      <th></th>\n",
              "      <th></th>\n",
              "    </tr>\n",
              "  </thead>\n",
              "  <tbody>\n",
              "    <tr>\n",
              "      <th>HR8270</th>\n",
              "      <td>0</td>\n",
              "      <td>28</td>\n",
              "      <td>HR</td>\n",
              "      <td>Suburb</td>\n",
              "      <td>PG</td>\n",
              "      <td>Referral</td>\n",
              "      <td>5</td>\n",
              "      <td>2</td>\n",
              "      <td>0</td>\n",
              "      <td>1</td>\n",
              "      <td>0</td>\n",
              "      <td>86750</td>\n",
              "      <td>1</td>\n",
              "    </tr>\n",
              "    <tr>\n",
              "      <th>TECH1860</th>\n",
              "      <td>1</td>\n",
              "      <td>50</td>\n",
              "      <td>Technology</td>\n",
              "      <td>Suburb</td>\n",
              "      <td>PG</td>\n",
              "      <td>Walk-in</td>\n",
              "      <td>3</td>\n",
              "      <td>5</td>\n",
              "      <td>1</td>\n",
              "      <td>2</td>\n",
              "      <td>1</td>\n",
              "      <td>42419</td>\n",
              "      <td>0</td>\n",
              "    </tr>\n",
              "    <tr>\n",
              "      <th>TECH6390</th>\n",
              "      <td>2</td>\n",
              "      <td>43</td>\n",
              "      <td>Technology</td>\n",
              "      <td>Suburb</td>\n",
              "      <td>UG</td>\n",
              "      <td>Referral</td>\n",
              "      <td>4</td>\n",
              "      <td>1</td>\n",
              "      <td>0</td>\n",
              "      <td>2</td>\n",
              "      <td>0</td>\n",
              "      <td>65715</td>\n",
              "      <td>0</td>\n",
              "    </tr>\n",
              "    <tr>\n",
              "      <th>SAL6191</th>\n",
              "      <td>3</td>\n",
              "      <td>44</td>\n",
              "      <td>Sales</td>\n",
              "      <td>City</td>\n",
              "      <td>PG</td>\n",
              "      <td>On-Campus</td>\n",
              "      <td>2</td>\n",
              "      <td>3</td>\n",
              "      <td>1</td>\n",
              "      <td>0</td>\n",
              "      <td>0</td>\n",
              "      <td>29805</td>\n",
              "      <td>1</td>\n",
              "    </tr>\n",
              "    <tr>\n",
              "      <th>HR6734</th>\n",
              "      <td>4</td>\n",
              "      <td>33</td>\n",
              "      <td>HR</td>\n",
              "      <td>City</td>\n",
              "      <td>UG</td>\n",
              "      <td>Recruitment Agency</td>\n",
              "      <td>2</td>\n",
              "      <td>1</td>\n",
              "      <td>0</td>\n",
              "      <td>5</td>\n",
              "      <td>0</td>\n",
              "      <td>29805</td>\n",
              "      <td>1</td>\n",
              "    </tr>\n",
              "    <tr>\n",
              "      <th>...</th>\n",
              "      <td>...</td>\n",
              "      <td>...</td>\n",
              "      <td>...</td>\n",
              "      <td>...</td>\n",
              "      <td>...</td>\n",
              "      <td>...</td>\n",
              "      <td>...</td>\n",
              "      <td>...</td>\n",
              "      <td>...</td>\n",
              "      <td>...</td>\n",
              "      <td>...</td>\n",
              "      <td>...</td>\n",
              "      <td>...</td>\n",
              "    </tr>\n",
              "    <tr>\n",
              "      <th>HR5330</th>\n",
              "      <td>495</td>\n",
              "      <td>49</td>\n",
              "      <td>HR</td>\n",
              "      <td>Suburb</td>\n",
              "      <td>PG</td>\n",
              "      <td>On-Campus</td>\n",
              "      <td>2</td>\n",
              "      <td>5</td>\n",
              "      <td>0</td>\n",
              "      <td>6</td>\n",
              "      <td>0</td>\n",
              "      <td>29805</td>\n",
              "      <td>1</td>\n",
              "    </tr>\n",
              "    <tr>\n",
              "      <th>TECH9010</th>\n",
              "      <td>496</td>\n",
              "      <td>24</td>\n",
              "      <td>Technology</td>\n",
              "      <td>Suburb</td>\n",
              "      <td>UG</td>\n",
              "      <td>Referral</td>\n",
              "      <td>2</td>\n",
              "      <td>4</td>\n",
              "      <td>0</td>\n",
              "      <td>2</td>\n",
              "      <td>0</td>\n",
              "      <td>29805</td>\n",
              "      <td>0</td>\n",
              "    </tr>\n",
              "    <tr>\n",
              "      <th>MKT7801</th>\n",
              "      <td>497</td>\n",
              "      <td>34</td>\n",
              "      <td>Marketing</td>\n",
              "      <td>City</td>\n",
              "      <td>PG</td>\n",
              "      <td>On-Campus</td>\n",
              "      <td>1</td>\n",
              "      <td>3</td>\n",
              "      <td>0</td>\n",
              "      <td>2</td>\n",
              "      <td>0</td>\n",
              "      <td>24076</td>\n",
              "      <td>1</td>\n",
              "    </tr>\n",
              "    <tr>\n",
              "      <th>TECH5846</th>\n",
              "      <td>498</td>\n",
              "      <td>26</td>\n",
              "      <td>Technology</td>\n",
              "      <td>City</td>\n",
              "      <td>UG</td>\n",
              "      <td>On-Campus</td>\n",
              "      <td>2</td>\n",
              "      <td>1</td>\n",
              "      <td>1</td>\n",
              "      <td>1</td>\n",
              "      <td>1</td>\n",
              "      <td>29805</td>\n",
              "      <td>0</td>\n",
              "    </tr>\n",
              "    <tr>\n",
              "      <th>TECH7731</th>\n",
              "      <td>499</td>\n",
              "      <td>26</td>\n",
              "      <td>Technology</td>\n",
              "      <td>City</td>\n",
              "      <td>UG</td>\n",
              "      <td>Recruitment Agency</td>\n",
              "      <td>3</td>\n",
              "      <td>4</td>\n",
              "      <td>0</td>\n",
              "      <td>3</td>\n",
              "      <td>0</td>\n",
              "      <td>42419</td>\n",
              "      <td>0</td>\n",
              "    </tr>\n",
              "  </tbody>\n",
              "</table>\n",
              "<p>500 rows × 13 columns</p>\n",
              "</div>"
            ],
            "text/plain": [
              "          Unnamed: 0  age        Dept  ... certifications salary satisfied\n",
              "emp_id                                 ...                                \n",
              "HR8270             0   28          HR  ...              0  86750         1\n",
              "TECH1860           1   50  Technology  ...              1  42419         0\n",
              "TECH6390           2   43  Technology  ...              0  65715         0\n",
              "SAL6191            3   44       Sales  ...              0  29805         1\n",
              "HR6734             4   33          HR  ...              0  29805         1\n",
              "...              ...  ...         ...  ...            ...    ...       ...\n",
              "HR5330           495   49          HR  ...              0  29805         1\n",
              "TECH9010         496   24  Technology  ...              0  29805         0\n",
              "MKT7801          497   34   Marketing  ...              0  24076         1\n",
              "TECH5846         498   26  Technology  ...              1  29805         0\n",
              "TECH7731         499   26  Technology  ...              0  42419         0\n",
              "\n",
              "[500 rows x 13 columns]"
            ]
          },
          "metadata": {
            "tags": []
          },
          "execution_count": 88
        }
      ]
    },
    {
      "cell_type": "code",
      "metadata": {
        "id": "YIK4eGlprHsy",
        "colab_type": "code",
        "colab": {}
      },
      "source": [
        "def create_np_array_from_input_list(input_list,output_type):\n",
        "    np_target = []\n",
        "    \n",
        "    entries = []\n",
        "    entries_idx = []\n",
        "    for entry in input_list:\n",
        "        duplicate = 0\n",
        "        for active_entry in entries:\n",
        "            if entry == active_entry:\n",
        "                duplicate = 1\n",
        "        \n",
        "        if duplicate == 0:\n",
        "            entries.append(entry)\n",
        "        \n",
        "        no_entries = len(entries)\n",
        "        \n",
        "    for i in range(0,no_entries):\n",
        "        entries_idx.append(i)\n",
        "        \n",
        "    for entry in input_list:\n",
        "        for i in range(0,no_entries):\n",
        "            if entry == entries[i]:\n",
        "                np_target.append(entries_idx[i])\n",
        "                \n",
        "    if output_type == 'numpy':\n",
        "        return(np_target)\n",
        "    elif output_type == 'categories':\n",
        "        return(entries)\n",
        "    else:\n",
        "        raise ValueError('output_type must be \\'numpy\\' or \\'categories\\'')"
      ],
      "execution_count": 89,
      "outputs": []
    },
    {
      "cell_type": "code",
      "metadata": {
        "id": "BNqLBexLrSHa",
        "colab_type": "code",
        "colab": {}
      },
      "source": [
        "np_data = create_np_array_from_input_list(raw_data['education'],'numpy')\n",
        "educ = create_np_array_from_input_list(raw_data['education'],'categories')"
      ],
      "execution_count": 90,
      "outputs": []
    },
    {
      "cell_type": "code",
      "metadata": {
        "id": "GMwYOGRCrmfU",
        "colab_type": "code",
        "colab": {
          "base_uri": "https://localhost:8080/",
          "height": 34
        },
        "outputId": "72aa99be-15fc-45a7-accb-ce7685d8017f"
      },
      "source": [
        "educ"
      ],
      "execution_count": null,
      "outputs": [
        {
          "output_type": "execute_result",
          "data": {
            "text/plain": [
              "['PG', 'UG']"
            ]
          },
          "metadata": {
            "tags": []
          },
          "execution_count": 11
        }
      ]
    },
    {
      "cell_type": "code",
      "metadata": {
        "id": "0anljoRUrm-C",
        "colab_type": "code",
        "colab": {
          "base_uri": "https://localhost:8080/",
          "height": 423
        },
        "outputId": "fbe55864-6636-4555-c911-d98a9ab66f70"
      },
      "source": [
        "data_copy = raw_data.copy()\n",
        "\n",
        "for i in range(0,len(np_data)):\n",
        "    data_copy.at[i,'education'] = np_data[i]\n",
        "\n",
        "\n",
        "data_copy"
      ],
      "execution_count": 91,
      "outputs": [
        {
          "output_type": "execute_result",
          "data": {
            "text/html": [
              "<div>\n",
              "<style scoped>\n",
              "    .dataframe tbody tr th:only-of-type {\n",
              "        vertical-align: middle;\n",
              "    }\n",
              "\n",
              "    .dataframe tbody tr th {\n",
              "        vertical-align: top;\n",
              "    }\n",
              "\n",
              "    .dataframe thead th {\n",
              "        text-align: right;\n",
              "    }\n",
              "</style>\n",
              "<table border=\"1\" class=\"dataframe\">\n",
              "  <thead>\n",
              "    <tr style=\"text-align: right;\">\n",
              "      <th></th>\n",
              "      <th>Unnamed: 0</th>\n",
              "      <th>emp_id</th>\n",
              "      <th>age</th>\n",
              "      <th>Dept</th>\n",
              "      <th>location</th>\n",
              "      <th>education</th>\n",
              "      <th>recruitment_type</th>\n",
              "      <th>job_level</th>\n",
              "      <th>rating</th>\n",
              "      <th>onsite</th>\n",
              "      <th>awards</th>\n",
              "      <th>certifications</th>\n",
              "      <th>salary</th>\n",
              "      <th>satisfied</th>\n",
              "    </tr>\n",
              "  </thead>\n",
              "  <tbody>\n",
              "    <tr>\n",
              "      <th>0</th>\n",
              "      <td>0</td>\n",
              "      <td>HR8270</td>\n",
              "      <td>28</td>\n",
              "      <td>HR</td>\n",
              "      <td>Suburb</td>\n",
              "      <td>0</td>\n",
              "      <td>Referral</td>\n",
              "      <td>5</td>\n",
              "      <td>2</td>\n",
              "      <td>0</td>\n",
              "      <td>1</td>\n",
              "      <td>0</td>\n",
              "      <td>86750</td>\n",
              "      <td>1</td>\n",
              "    </tr>\n",
              "    <tr>\n",
              "      <th>1</th>\n",
              "      <td>1</td>\n",
              "      <td>TECH1860</td>\n",
              "      <td>50</td>\n",
              "      <td>Technology</td>\n",
              "      <td>Suburb</td>\n",
              "      <td>0</td>\n",
              "      <td>Walk-in</td>\n",
              "      <td>3</td>\n",
              "      <td>5</td>\n",
              "      <td>1</td>\n",
              "      <td>2</td>\n",
              "      <td>1</td>\n",
              "      <td>42419</td>\n",
              "      <td>0</td>\n",
              "    </tr>\n",
              "    <tr>\n",
              "      <th>2</th>\n",
              "      <td>2</td>\n",
              "      <td>TECH6390</td>\n",
              "      <td>43</td>\n",
              "      <td>Technology</td>\n",
              "      <td>Suburb</td>\n",
              "      <td>1</td>\n",
              "      <td>Referral</td>\n",
              "      <td>4</td>\n",
              "      <td>1</td>\n",
              "      <td>0</td>\n",
              "      <td>2</td>\n",
              "      <td>0</td>\n",
              "      <td>65715</td>\n",
              "      <td>0</td>\n",
              "    </tr>\n",
              "    <tr>\n",
              "      <th>3</th>\n",
              "      <td>3</td>\n",
              "      <td>SAL6191</td>\n",
              "      <td>44</td>\n",
              "      <td>Sales</td>\n",
              "      <td>City</td>\n",
              "      <td>0</td>\n",
              "      <td>On-Campus</td>\n",
              "      <td>2</td>\n",
              "      <td>3</td>\n",
              "      <td>1</td>\n",
              "      <td>0</td>\n",
              "      <td>0</td>\n",
              "      <td>29805</td>\n",
              "      <td>1</td>\n",
              "    </tr>\n",
              "    <tr>\n",
              "      <th>4</th>\n",
              "      <td>4</td>\n",
              "      <td>HR6734</td>\n",
              "      <td>33</td>\n",
              "      <td>HR</td>\n",
              "      <td>City</td>\n",
              "      <td>1</td>\n",
              "      <td>Recruitment Agency</td>\n",
              "      <td>2</td>\n",
              "      <td>1</td>\n",
              "      <td>0</td>\n",
              "      <td>5</td>\n",
              "      <td>0</td>\n",
              "      <td>29805</td>\n",
              "      <td>1</td>\n",
              "    </tr>\n",
              "    <tr>\n",
              "      <th>...</th>\n",
              "      <td>...</td>\n",
              "      <td>...</td>\n",
              "      <td>...</td>\n",
              "      <td>...</td>\n",
              "      <td>...</td>\n",
              "      <td>...</td>\n",
              "      <td>...</td>\n",
              "      <td>...</td>\n",
              "      <td>...</td>\n",
              "      <td>...</td>\n",
              "      <td>...</td>\n",
              "      <td>...</td>\n",
              "      <td>...</td>\n",
              "      <td>...</td>\n",
              "    </tr>\n",
              "    <tr>\n",
              "      <th>495</th>\n",
              "      <td>495</td>\n",
              "      <td>HR5330</td>\n",
              "      <td>49</td>\n",
              "      <td>HR</td>\n",
              "      <td>Suburb</td>\n",
              "      <td>0</td>\n",
              "      <td>On-Campus</td>\n",
              "      <td>2</td>\n",
              "      <td>5</td>\n",
              "      <td>0</td>\n",
              "      <td>6</td>\n",
              "      <td>0</td>\n",
              "      <td>29805</td>\n",
              "      <td>1</td>\n",
              "    </tr>\n",
              "    <tr>\n",
              "      <th>496</th>\n",
              "      <td>496</td>\n",
              "      <td>TECH9010</td>\n",
              "      <td>24</td>\n",
              "      <td>Technology</td>\n",
              "      <td>Suburb</td>\n",
              "      <td>1</td>\n",
              "      <td>Referral</td>\n",
              "      <td>2</td>\n",
              "      <td>4</td>\n",
              "      <td>0</td>\n",
              "      <td>2</td>\n",
              "      <td>0</td>\n",
              "      <td>29805</td>\n",
              "      <td>0</td>\n",
              "    </tr>\n",
              "    <tr>\n",
              "      <th>497</th>\n",
              "      <td>497</td>\n",
              "      <td>MKT7801</td>\n",
              "      <td>34</td>\n",
              "      <td>Marketing</td>\n",
              "      <td>City</td>\n",
              "      <td>0</td>\n",
              "      <td>On-Campus</td>\n",
              "      <td>1</td>\n",
              "      <td>3</td>\n",
              "      <td>0</td>\n",
              "      <td>2</td>\n",
              "      <td>0</td>\n",
              "      <td>24076</td>\n",
              "      <td>1</td>\n",
              "    </tr>\n",
              "    <tr>\n",
              "      <th>498</th>\n",
              "      <td>498</td>\n",
              "      <td>TECH5846</td>\n",
              "      <td>26</td>\n",
              "      <td>Technology</td>\n",
              "      <td>City</td>\n",
              "      <td>1</td>\n",
              "      <td>On-Campus</td>\n",
              "      <td>2</td>\n",
              "      <td>1</td>\n",
              "      <td>1</td>\n",
              "      <td>1</td>\n",
              "      <td>1</td>\n",
              "      <td>29805</td>\n",
              "      <td>0</td>\n",
              "    </tr>\n",
              "    <tr>\n",
              "      <th>499</th>\n",
              "      <td>499</td>\n",
              "      <td>TECH7731</td>\n",
              "      <td>26</td>\n",
              "      <td>Technology</td>\n",
              "      <td>City</td>\n",
              "      <td>1</td>\n",
              "      <td>Recruitment Agency</td>\n",
              "      <td>3</td>\n",
              "      <td>4</td>\n",
              "      <td>0</td>\n",
              "      <td>3</td>\n",
              "      <td>0</td>\n",
              "      <td>42419</td>\n",
              "      <td>0</td>\n",
              "    </tr>\n",
              "  </tbody>\n",
              "</table>\n",
              "<p>500 rows × 14 columns</p>\n",
              "</div>"
            ],
            "text/plain": [
              "     Unnamed: 0    emp_id  age  ... certifications salary satisfied\n",
              "0             0    HR8270   28  ...              0  86750         1\n",
              "1             1  TECH1860   50  ...              1  42419         0\n",
              "2             2  TECH6390   43  ...              0  65715         0\n",
              "3             3   SAL6191   44  ...              0  29805         1\n",
              "4             4    HR6734   33  ...              0  29805         1\n",
              "..          ...       ...  ...  ...            ...    ...       ...\n",
              "495         495    HR5330   49  ...              0  29805         1\n",
              "496         496  TECH9010   24  ...              0  29805         0\n",
              "497         497   MKT7801   34  ...              0  24076         1\n",
              "498         498  TECH5846   26  ...              1  29805         0\n",
              "499         499  TECH7731   26  ...              0  42419         0\n",
              "\n",
              "[500 rows x 14 columns]"
            ]
          },
          "metadata": {
            "tags": []
          },
          "execution_count": 91
        }
      ]
    },
    {
      "cell_type": "code",
      "metadata": {
        "id": "a_2whJ04r_ZQ",
        "colab_type": "code",
        "colab": {}
      },
      "source": [
        "for i in range(0,len(np_data)):\n",
        "    data_copy.at[i,'location'] = np_data[i]"
      ],
      "execution_count": 92,
      "outputs": []
    },
    {
      "cell_type": "code",
      "metadata": {
        "id": "wfotmN86sBGS",
        "colab_type": "code",
        "colab": {
          "base_uri": "https://localhost:8080/",
          "height": 424
        },
        "outputId": "56476856-c5d9-4af4-f955-390ec8d17bd5"
      },
      "source": [
        "data_copy"
      ],
      "execution_count": null,
      "outputs": [
        {
          "output_type": "execute_result",
          "data": {
            "text/html": [
              "<div>\n",
              "<style scoped>\n",
              "    .dataframe tbody tr th:only-of-type {\n",
              "        vertical-align: middle;\n",
              "    }\n",
              "\n",
              "    .dataframe tbody tr th {\n",
              "        vertical-align: top;\n",
              "    }\n",
              "\n",
              "    .dataframe thead th {\n",
              "        text-align: right;\n",
              "    }\n",
              "</style>\n",
              "<table border=\"1\" class=\"dataframe\">\n",
              "  <thead>\n",
              "    <tr style=\"text-align: right;\">\n",
              "      <th></th>\n",
              "      <th>Unnamed: 0</th>\n",
              "      <th>emp_id</th>\n",
              "      <th>age</th>\n",
              "      <th>Dept</th>\n",
              "      <th>location</th>\n",
              "      <th>education</th>\n",
              "      <th>recruitment_type</th>\n",
              "      <th>job_level</th>\n",
              "      <th>rating</th>\n",
              "      <th>onsite</th>\n",
              "      <th>awards</th>\n",
              "      <th>certifications</th>\n",
              "      <th>salary</th>\n",
              "      <th>satisfied</th>\n",
              "    </tr>\n",
              "  </thead>\n",
              "  <tbody>\n",
              "    <tr>\n",
              "      <th>0</th>\n",
              "      <td>0</td>\n",
              "      <td>HR8270</td>\n",
              "      <td>28</td>\n",
              "      <td>HR</td>\n",
              "      <td>0</td>\n",
              "      <td>0</td>\n",
              "      <td>Referral</td>\n",
              "      <td>5</td>\n",
              "      <td>2</td>\n",
              "      <td>0</td>\n",
              "      <td>1</td>\n",
              "      <td>0</td>\n",
              "      <td>86750</td>\n",
              "      <td>1</td>\n",
              "    </tr>\n",
              "    <tr>\n",
              "      <th>1</th>\n",
              "      <td>1</td>\n",
              "      <td>TECH1860</td>\n",
              "      <td>50</td>\n",
              "      <td>Technology</td>\n",
              "      <td>0</td>\n",
              "      <td>0</td>\n",
              "      <td>Walk-in</td>\n",
              "      <td>3</td>\n",
              "      <td>5</td>\n",
              "      <td>1</td>\n",
              "      <td>2</td>\n",
              "      <td>1</td>\n",
              "      <td>42419</td>\n",
              "      <td>0</td>\n",
              "    </tr>\n",
              "    <tr>\n",
              "      <th>2</th>\n",
              "      <td>2</td>\n",
              "      <td>TECH6390</td>\n",
              "      <td>43</td>\n",
              "      <td>Technology</td>\n",
              "      <td>1</td>\n",
              "      <td>1</td>\n",
              "      <td>Referral</td>\n",
              "      <td>4</td>\n",
              "      <td>1</td>\n",
              "      <td>0</td>\n",
              "      <td>2</td>\n",
              "      <td>0</td>\n",
              "      <td>65715</td>\n",
              "      <td>0</td>\n",
              "    </tr>\n",
              "    <tr>\n",
              "      <th>3</th>\n",
              "      <td>3</td>\n",
              "      <td>SAL6191</td>\n",
              "      <td>44</td>\n",
              "      <td>Sales</td>\n",
              "      <td>0</td>\n",
              "      <td>0</td>\n",
              "      <td>On-Campus</td>\n",
              "      <td>2</td>\n",
              "      <td>3</td>\n",
              "      <td>1</td>\n",
              "      <td>0</td>\n",
              "      <td>0</td>\n",
              "      <td>29805</td>\n",
              "      <td>1</td>\n",
              "    </tr>\n",
              "    <tr>\n",
              "      <th>4</th>\n",
              "      <td>4</td>\n",
              "      <td>HR6734</td>\n",
              "      <td>33</td>\n",
              "      <td>HR</td>\n",
              "      <td>1</td>\n",
              "      <td>1</td>\n",
              "      <td>Recruitment Agency</td>\n",
              "      <td>2</td>\n",
              "      <td>1</td>\n",
              "      <td>0</td>\n",
              "      <td>5</td>\n",
              "      <td>0</td>\n",
              "      <td>29805</td>\n",
              "      <td>1</td>\n",
              "    </tr>\n",
              "    <tr>\n",
              "      <th>...</th>\n",
              "      <td>...</td>\n",
              "      <td>...</td>\n",
              "      <td>...</td>\n",
              "      <td>...</td>\n",
              "      <td>...</td>\n",
              "      <td>...</td>\n",
              "      <td>...</td>\n",
              "      <td>...</td>\n",
              "      <td>...</td>\n",
              "      <td>...</td>\n",
              "      <td>...</td>\n",
              "      <td>...</td>\n",
              "      <td>...</td>\n",
              "      <td>...</td>\n",
              "    </tr>\n",
              "    <tr>\n",
              "      <th>495</th>\n",
              "      <td>495</td>\n",
              "      <td>HR5330</td>\n",
              "      <td>49</td>\n",
              "      <td>HR</td>\n",
              "      <td>0</td>\n",
              "      <td>0</td>\n",
              "      <td>On-Campus</td>\n",
              "      <td>2</td>\n",
              "      <td>5</td>\n",
              "      <td>0</td>\n",
              "      <td>6</td>\n",
              "      <td>0</td>\n",
              "      <td>29805</td>\n",
              "      <td>1</td>\n",
              "    </tr>\n",
              "    <tr>\n",
              "      <th>496</th>\n",
              "      <td>496</td>\n",
              "      <td>TECH9010</td>\n",
              "      <td>24</td>\n",
              "      <td>Technology</td>\n",
              "      <td>1</td>\n",
              "      <td>1</td>\n",
              "      <td>Referral</td>\n",
              "      <td>2</td>\n",
              "      <td>4</td>\n",
              "      <td>0</td>\n",
              "      <td>2</td>\n",
              "      <td>0</td>\n",
              "      <td>29805</td>\n",
              "      <td>0</td>\n",
              "    </tr>\n",
              "    <tr>\n",
              "      <th>497</th>\n",
              "      <td>497</td>\n",
              "      <td>MKT7801</td>\n",
              "      <td>34</td>\n",
              "      <td>Marketing</td>\n",
              "      <td>0</td>\n",
              "      <td>0</td>\n",
              "      <td>On-Campus</td>\n",
              "      <td>1</td>\n",
              "      <td>3</td>\n",
              "      <td>0</td>\n",
              "      <td>2</td>\n",
              "      <td>0</td>\n",
              "      <td>24076</td>\n",
              "      <td>1</td>\n",
              "    </tr>\n",
              "    <tr>\n",
              "      <th>498</th>\n",
              "      <td>498</td>\n",
              "      <td>TECH5846</td>\n",
              "      <td>26</td>\n",
              "      <td>Technology</td>\n",
              "      <td>1</td>\n",
              "      <td>1</td>\n",
              "      <td>On-Campus</td>\n",
              "      <td>2</td>\n",
              "      <td>1</td>\n",
              "      <td>1</td>\n",
              "      <td>1</td>\n",
              "      <td>1</td>\n",
              "      <td>29805</td>\n",
              "      <td>0</td>\n",
              "    </tr>\n",
              "    <tr>\n",
              "      <th>499</th>\n",
              "      <td>499</td>\n",
              "      <td>TECH7731</td>\n",
              "      <td>26</td>\n",
              "      <td>Technology</td>\n",
              "      <td>1</td>\n",
              "      <td>1</td>\n",
              "      <td>Recruitment Agency</td>\n",
              "      <td>3</td>\n",
              "      <td>4</td>\n",
              "      <td>0</td>\n",
              "      <td>3</td>\n",
              "      <td>0</td>\n",
              "      <td>42419</td>\n",
              "      <td>0</td>\n",
              "    </tr>\n",
              "  </tbody>\n",
              "</table>\n",
              "<p>500 rows × 14 columns</p>\n",
              "</div>"
            ],
            "text/plain": [
              "     Unnamed: 0    emp_id  age  ... certifications salary satisfied\n",
              "0             0    HR8270   28  ...              0  86750         1\n",
              "1             1  TECH1860   50  ...              1  42419         0\n",
              "2             2  TECH6390   43  ...              0  65715         0\n",
              "3             3   SAL6191   44  ...              0  29805         1\n",
              "4             4    HR6734   33  ...              0  29805         1\n",
              "..          ...       ...  ...  ...            ...    ...       ...\n",
              "495         495    HR5330   49  ...              0  29805         1\n",
              "496         496  TECH9010   24  ...              0  29805         0\n",
              "497         497   MKT7801   34  ...              0  24076         1\n",
              "498         498  TECH5846   26  ...              1  29805         0\n",
              "499         499  TECH7731   26  ...              0  42419         0\n",
              "\n",
              "[500 rows x 14 columns]"
            ]
          },
          "metadata": {
            "tags": []
          },
          "execution_count": 11
        }
      ]
    },
    {
      "cell_type": "code",
      "metadata": {
        "id": "7xrxt2g9sRUy",
        "colab_type": "code",
        "colab": {
          "base_uri": "https://localhost:8080/",
          "height": 332
        },
        "outputId": "8b0b1b1e-bdf1-436d-ea2a-00684e1f2397"
      },
      "source": [
        "data_copy.corr()"
      ],
      "execution_count": null,
      "outputs": [
        {
          "output_type": "execute_result",
          "data": {
            "text/html": [
              "<div>\n",
              "<style scoped>\n",
              "    .dataframe tbody tr th:only-of-type {\n",
              "        vertical-align: middle;\n",
              "    }\n",
              "\n",
              "    .dataframe tbody tr th {\n",
              "        vertical-align: top;\n",
              "    }\n",
              "\n",
              "    .dataframe thead th {\n",
              "        text-align: right;\n",
              "    }\n",
              "</style>\n",
              "<table border=\"1\" class=\"dataframe\">\n",
              "  <thead>\n",
              "    <tr style=\"text-align: right;\">\n",
              "      <th></th>\n",
              "      <th>Unnamed: 0</th>\n",
              "      <th>age</th>\n",
              "      <th>job_level</th>\n",
              "      <th>rating</th>\n",
              "      <th>onsite</th>\n",
              "      <th>awards</th>\n",
              "      <th>certifications</th>\n",
              "      <th>salary</th>\n",
              "      <th>satisfied</th>\n",
              "    </tr>\n",
              "  </thead>\n",
              "  <tbody>\n",
              "    <tr>\n",
              "      <th>Unnamed: 0</th>\n",
              "      <td>1.000000</td>\n",
              "      <td>0.029372</td>\n",
              "      <td>-0.016834</td>\n",
              "      <td>-0.060811</td>\n",
              "      <td>-0.056124</td>\n",
              "      <td>-0.049831</td>\n",
              "      <td>0.027797</td>\n",
              "      <td>-0.022075</td>\n",
              "      <td>-0.036228</td>\n",
              "    </tr>\n",
              "    <tr>\n",
              "      <th>age</th>\n",
              "      <td>0.029372</td>\n",
              "      <td>1.000000</td>\n",
              "      <td>-0.057528</td>\n",
              "      <td>-0.096388</td>\n",
              "      <td>-0.054055</td>\n",
              "      <td>-0.019875</td>\n",
              "      <td>0.025335</td>\n",
              "      <td>-0.048294</td>\n",
              "      <td>0.004490</td>\n",
              "    </tr>\n",
              "    <tr>\n",
              "      <th>job_level</th>\n",
              "      <td>-0.016834</td>\n",
              "      <td>-0.057528</td>\n",
              "      <td>1.000000</td>\n",
              "      <td>0.081829</td>\n",
              "      <td>-0.054843</td>\n",
              "      <td>-0.037793</td>\n",
              "      <td>-0.002632</td>\n",
              "      <td>0.977539</td>\n",
              "      <td>0.010093</td>\n",
              "    </tr>\n",
              "    <tr>\n",
              "      <th>rating</th>\n",
              "      <td>-0.060811</td>\n",
              "      <td>-0.096388</td>\n",
              "      <td>0.081829</td>\n",
              "      <td>1.000000</td>\n",
              "      <td>0.009079</td>\n",
              "      <td>0.022983</td>\n",
              "      <td>-0.030503</td>\n",
              "      <td>0.081034</td>\n",
              "      <td>0.093024</td>\n",
              "    </tr>\n",
              "    <tr>\n",
              "      <th>onsite</th>\n",
              "      <td>-0.056124</td>\n",
              "      <td>-0.054055</td>\n",
              "      <td>-0.054843</td>\n",
              "      <td>0.009079</td>\n",
              "      <td>1.000000</td>\n",
              "      <td>0.003722</td>\n",
              "      <td>0.043558</td>\n",
              "      <td>-0.057936</td>\n",
              "      <td>0.027637</td>\n",
              "    </tr>\n",
              "    <tr>\n",
              "      <th>awards</th>\n",
              "      <td>-0.049831</td>\n",
              "      <td>-0.019875</td>\n",
              "      <td>-0.037793</td>\n",
              "      <td>0.022983</td>\n",
              "      <td>0.003722</td>\n",
              "      <td>1.000000</td>\n",
              "      <td>-0.030066</td>\n",
              "      <td>-0.032339</td>\n",
              "      <td>0.014763</td>\n",
              "    </tr>\n",
              "    <tr>\n",
              "      <th>certifications</th>\n",
              "      <td>0.027797</td>\n",
              "      <td>0.025335</td>\n",
              "      <td>-0.002632</td>\n",
              "      <td>-0.030503</td>\n",
              "      <td>0.043558</td>\n",
              "      <td>-0.030066</td>\n",
              "      <td>1.000000</td>\n",
              "      <td>0.004594</td>\n",
              "      <td>-0.011600</td>\n",
              "    </tr>\n",
              "    <tr>\n",
              "      <th>salary</th>\n",
              "      <td>-0.022075</td>\n",
              "      <td>-0.048294</td>\n",
              "      <td>0.977539</td>\n",
              "      <td>0.081034</td>\n",
              "      <td>-0.057936</td>\n",
              "      <td>-0.032339</td>\n",
              "      <td>0.004594</td>\n",
              "      <td>1.000000</td>\n",
              "      <td>0.023168</td>\n",
              "    </tr>\n",
              "    <tr>\n",
              "      <th>satisfied</th>\n",
              "      <td>-0.036228</td>\n",
              "      <td>0.004490</td>\n",
              "      <td>0.010093</td>\n",
              "      <td>0.093024</td>\n",
              "      <td>0.027637</td>\n",
              "      <td>0.014763</td>\n",
              "      <td>-0.011600</td>\n",
              "      <td>0.023168</td>\n",
              "      <td>1.000000</td>\n",
              "    </tr>\n",
              "  </tbody>\n",
              "</table>\n",
              "</div>"
            ],
            "text/plain": [
              "                Unnamed: 0       age  ...    salary  satisfied\n",
              "Unnamed: 0        1.000000  0.029372  ... -0.022075  -0.036228\n",
              "age               0.029372  1.000000  ... -0.048294   0.004490\n",
              "job_level        -0.016834 -0.057528  ...  0.977539   0.010093\n",
              "rating           -0.060811 -0.096388  ...  0.081034   0.093024\n",
              "onsite           -0.056124 -0.054055  ... -0.057936   0.027637\n",
              "awards           -0.049831 -0.019875  ... -0.032339   0.014763\n",
              "certifications    0.027797  0.025335  ...  0.004594  -0.011600\n",
              "salary           -0.022075 -0.048294  ...  1.000000   0.023168\n",
              "satisfied        -0.036228  0.004490  ...  0.023168   1.000000\n",
              "\n",
              "[9 rows x 9 columns]"
            ]
          },
          "metadata": {
            "tags": []
          },
          "execution_count": 12
        }
      ]
    },
    {
      "cell_type": "markdown",
      "metadata": {
        "id": "Af5rCAzU0tpj",
        "colab_type": "text"
      },
      "source": [
        "Job_level and salary - regression"
      ]
    },
    {
      "cell_type": "code",
      "metadata": {
        "id": "rHABIaHcxN3o",
        "colab_type": "code",
        "colab": {}
      },
      "source": [
        "data_copy = data_copy.sort_values(by='job_level')"
      ],
      "execution_count": 93,
      "outputs": []
    },
    {
      "cell_type": "code",
      "metadata": {
        "id": "YlefgPUax_gO",
        "colab_type": "code",
        "colab": {}
      },
      "source": [
        "target1=data_copy[['salary']]\n",
        "data1=data_copy[['job_level']]"
      ],
      "execution_count": 94,
      "outputs": []
    },
    {
      "cell_type": "code",
      "metadata": {
        "id": "pFqkUkRE1T1V",
        "colab_type": "code",
        "colab": {
          "base_uri": "https://localhost:8080/",
          "height": 36
        },
        "outputId": "fa8ddbb0-7d62-4d24-fa36-579df48f58ef"
      },
      "source": [
        "from sklearn.linear_model import LinearRegression\n",
        "\n",
        "regressor = LinearRegression()\n",
        "\n",
        "regressor.fit(data1, target1)"
      ],
      "execution_count": 95,
      "outputs": [
        {
          "output_type": "execute_result",
          "data": {
            "text/plain": [
              "LinearRegression(copy_X=True, fit_intercept=True, n_jobs=None, normalize=False)"
            ]
          },
          "metadata": {
            "tags": []
          },
          "execution_count": 95
        }
      ]
    },
    {
      "cell_type": "code",
      "metadata": {
        "id": "UmXIYBn-1W_a",
        "colab_type": "code",
        "colab": {}
      },
      "source": [
        "target1_pred = regressor.predict(data1)"
      ],
      "execution_count": 96,
      "outputs": []
    },
    {
      "cell_type": "code",
      "metadata": {
        "id": "Of5_JoxW1ZdR",
        "colab_type": "code",
        "colab": {
          "base_uri": "https://localhost:8080/",
          "height": 36
        },
        "outputId": "b233f0e9-f0e3-4c93-f83c-e100b6baa591"
      },
      "source": [
        "\n",
        "\n",
        "regressor.score(data1, target1)\n",
        "\n"
      ],
      "execution_count": 97,
      "outputs": [
        {
          "output_type": "execute_result",
          "data": {
            "text/plain": [
              "0.9555831288457275"
            ]
          },
          "metadata": {
            "tags": []
          },
          "execution_count": 97
        }
      ]
    },
    {
      "cell_type": "code",
      "metadata": {
        "id": "3mIOkrDz1h-Q",
        "colab_type": "code",
        "colab": {
          "base_uri": "https://localhost:8080/",
          "height": 419
        },
        "outputId": "83c56bfe-bcde-4176-a75a-db7e12135273"
      },
      "source": [
        "plt.figure(figsize=(8, 6))\n",
        "plt.title('Linear regression')\n",
        "plt.xlabel('job_level')\n",
        "plt.ylabel('salary')\n",
        "plt.scatter(data1, target1, label='job_level')\n",
        "plt.plot(data1, target1_pred, color='red', label='model')\n",
        "plt.legend()\n",
        "plt.show()"
      ],
      "execution_count": 98,
      "outputs": [
        {
          "output_type": "display_data",
          "data": {
            "image/png": "[encoded data removed]",
            "text/plain": [
              "<Figure size 576x432 with 1 Axes>"
            ]
          },
          "metadata": {
            "tags": []
          }
        }
      ]
    },
    {
      "cell_type": "code",
      "metadata": {
        "id": "Y0FFLxhL1rXG",
        "colab_type": "code",
        "colab": {
          "base_uri": "https://localhost:8080/",
          "height": 92
        },
        "outputId": "28c0ebdf-1620-470b-c206-c781229df342"
      },
      "source": [
        "\n",
        "\n",
        "from sklearn.model_selection import train_test_split\n",
        "\n",
        "X_train, X_test, y_train, y_test = train_test_split(data1, target1, test_size=0.25)\n",
        "\n",
        "print(f'X_train shape: {X_train.shape}')\n",
        "print(f'X_test shape: {X_test.shape}')\n",
        "print(f'y_train shape: {y_train.shape}')\n",
        "print(f'y_train shape: {y_train.shape}')\n",
        "\n"
      ],
      "execution_count": 99,
      "outputs": [
        {
          "output_type": "stream",
          "text": [
            "X_train shape: (375, 1)\n",
            "X_test shape: (125, 1)\n",
            "y_train shape: (375, 1)\n",
            "y_train shape: (375, 1)\n"
          ],
          "name": "stdout"
        }
      ]
    },
    {
      "cell_type": "code",
      "metadata": {
        "id": "G7_8Ec3J1siW",
        "colab_type": "code",
        "colab": {
          "base_uri": "https://localhost:8080/",
          "height": 438
        },
        "outputId": "dc75691f-7177-4f97-cee3-d04fc4f5affd"
      },
      "source": [
        "plt.figure(figsize=(8, 6))\n",
        "plt.title('Linear regression train vs test')\n",
        "plt.xlabel('job_level')\n",
        "plt.ylabel('salary')\n",
        "plt.scatter(X_train, y_train, label='training set', color='gray', alpha=0.5)\n",
        "plt.scatter(X_test, y_test, label='testing set', color='gold', alpha=0.5)\n",
        "plt.legend()\n",
        "plt.plot()"
      ],
      "execution_count": 100,
      "outputs": [
        {
          "output_type": "execute_result",
          "data": {
            "text/plain": [
              "[]"
            ]
          },
          "metadata": {
            "tags": []
          },
          "execution_count": 100
        },
        {
          "output_type": "display_data",
          "data": {
            "image/png": "[encoded data removed]",
            "text/plain": [
              "<Figure size 576x432 with 1 Axes>"
            ]
          },
          "metadata": {
            "tags": []
          }
        }
      ]
    },
    {
      "cell_type": "code",
      "metadata": {
        "id": "is7CVMaZ2F62",
        "colab_type": "code",
        "colab": {
          "base_uri": "https://localhost:8080/",
          "height": 36
        },
        "outputId": "e9d1da87-c7d5-4b4a-fe40-76b8dc44c6a5"
      },
      "source": [
        "regressor = LinearRegression()\n",
        "regressor.fit(X_train, y_train)"
      ],
      "execution_count": 101,
      "outputs": [
        {
          "output_type": "execute_result",
          "data": {
            "text/plain": [
              "LinearRegression(copy_X=True, fit_intercept=True, n_jobs=None, normalize=False)"
            ]
          },
          "metadata": {
            "tags": []
          },
          "execution_count": 101
        }
      ]
    },
    {
      "cell_type": "code",
      "metadata": {
        "id": "A60jHxae2G2-",
        "colab_type": "code",
        "colab": {
          "base_uri": "https://localhost:8080/",
          "height": 36
        },
        "outputId": "95306bf0-8341-4bdb-a4c4-a8c7cf5693f2"
      },
      "source": [
        "\n",
        "\n",
        "regressor.score(X_train, y_train)\n",
        "\n"
      ],
      "execution_count": 102,
      "outputs": [
        {
          "output_type": "execute_result",
          "data": {
            "text/plain": [
              "0.9559031795364984"
            ]
          },
          "metadata": {
            "tags": []
          },
          "execution_count": 102
        }
      ]
    },
    {
      "cell_type": "code",
      "metadata": {
        "id": "afDfHY6n2I0S",
        "colab_type": "code",
        "colab": {
          "base_uri": "https://localhost:8080/",
          "height": 36
        },
        "outputId": "d22d172c-b7ad-405f-baf7-a238f6eb3dfa"
      },
      "source": [
        "regressor.score(X_test, y_test)"
      ],
      "execution_count": 103,
      "outputs": [
        {
          "output_type": "execute_result",
          "data": {
            "text/plain": [
              "0.9541797773080579"
            ]
          },
          "metadata": {
            "tags": []
          },
          "execution_count": 103
        }
      ]
    },
    {
      "cell_type": "code",
      "metadata": {
        "id": "aO2Mp_aX2LBb",
        "colab_type": "code",
        "colab": {
          "base_uri": "https://localhost:8080/",
          "height": 438
        },
        "outputId": "65a677bb-6d45-4f50-e3f4-6ff0be92c73b"
      },
      "source": [
        "plt.figure(figsize=(8, 6))\n",
        "plt.title('Linear regression train ')\n",
        "plt.xlabel('job_level')\n",
        "plt.ylabel('salary')\n",
        "plt.scatter(X_train, y_train, label='train', color='gray', alpha=0.5)\n",
        "plt.plot(X_train, regressor.intercept_ + regressor.coef_[0] * X_train, color='red')\n",
        "plt.legend()\n",
        "plt.plot()"
      ],
      "execution_count": 104,
      "outputs": [
        {
          "output_type": "execute_result",
          "data": {
            "text/plain": [
              "[]"
            ]
          },
          "metadata": {
            "tags": []
          },
          "execution_count": 104
        },
        {
          "output_type": "display_data",
          "data": {
            "image/png": "[encoded data removed]",
            "text/plain": [
              "<Figure size 576x432 with 1 Axes>"
            ]
          },
          "metadata": {
            "tags": []
          }
        }
      ]
    },
    {
      "cell_type": "code",
      "metadata": {
        "id": "RV17z69gttHU",
        "colab_type": "code",
        "colab": {
          "base_uri": "https://localhost:8080/",
          "height": 147
        },
        "outputId": "cf3625c3-4264-452b-cae4-0346ea359652"
      },
      "source": [
        "from sklearn.preprocessing import PolynomialFeatures\n",
        "\n",
        "poly = PolynomialFeatures(degree=2)\n",
        "\n",
        "data1_poly = poly.fit_transform(data1)\n",
        "data1_poly"
      ],
      "execution_count": 105,
      "outputs": [
        {
          "output_type": "execute_result",
          "data": {
            "text/plain": [
              "array([[ 1.,  1.,  1.],\n",
              "       [ 1.,  1.,  1.],\n",
              "       [ 1.,  1.,  1.],\n",
              "       ...,\n",
              "       [ 1.,  5., 25.],\n",
              "       [ 1.,  5., 25.],\n",
              "       [ 1.,  5., 25.]])"
            ]
          },
          "metadata": {
            "tags": []
          },
          "execution_count": 105
        }
      ]
    },
    {
      "cell_type": "code",
      "metadata": {
        "id": "-QcovSyEtvwc",
        "colab_type": "code",
        "colab": {
          "base_uri": "https://localhost:8080/",
          "height": 36
        },
        "outputId": "e81f99ee-1ccb-41e0-e72d-f9eb3b0b0e12"
      },
      "source": [
        "data1_poly.shape"
      ],
      "execution_count": 106,
      "outputs": [
        {
          "output_type": "execute_result",
          "data": {
            "text/plain": [
              "(500, 3)"
            ]
          },
          "metadata": {
            "tags": []
          },
          "execution_count": 106
        }
      ]
    },
    {
      "cell_type": "code",
      "metadata": {
        "id": "MtdWwX4btyot",
        "colab_type": "code",
        "colab": {
          "base_uri": "https://localhost:8080/",
          "height": 36
        },
        "outputId": "210ede9c-73ab-42bb-8e79-19d6ef27de50"
      },
      "source": [
        "regressor_poly = LinearRegression()\n",
        "regressor_poly.fit(data1_poly, target1)"
      ],
      "execution_count": 107,
      "outputs": [
        {
          "output_type": "execute_result",
          "data": {
            "text/plain": [
              "LinearRegression(copy_X=True, fit_intercept=True, n_jobs=None, normalize=False)"
            ]
          },
          "metadata": {
            "tags": []
          },
          "execution_count": 107
        }
      ]
    },
    {
      "cell_type": "code",
      "metadata": {
        "id": "qXEZkh9Rt19X",
        "colab_type": "code",
        "colab": {}
      },
      "source": [
        "target1_pred_lin = regressor.predict(data1)"
      ],
      "execution_count": 108,
      "outputs": []
    },
    {
      "cell_type": "code",
      "metadata": {
        "id": "ajg4KwPpt4ve",
        "colab_type": "code",
        "colab": {}
      },
      "source": [
        "target1_pred_2 = regressor_poly.predict(data1_poly)"
      ],
      "execution_count": 109,
      "outputs": []
    },
    {
      "cell_type": "code",
      "metadata": {
        "id": "oXNxVmXMt8Pd",
        "colab_type": "code",
        "colab": {
          "base_uri": "https://localhost:8080/",
          "height": 419
        },
        "outputId": "5e1a0c06-3d51-4e63-d8a8-69429c0cf2f2"
      },
      "source": [
        "regressor_poly = LinearRegression()\n",
        "regressor_poly.fit(data1_poly, target1)\n",
        "\n",
        "target1_pred_2 = regressor_poly.predict(data1_poly)\n",
        "\n",
        "plt.figure(figsize=(8, 6))\n",
        "plt.title('Polynomial Regression')\n",
        "plt.xlabel('job_level')\n",
        "plt.ylabel('salary')\n",
        "plt.scatter(data1, target1, label='job_level')\n",
        "plt.plot(data1, target1_pred_lin, c='red', label='Linear regression')\n",
        "plt.plot(data1, target1_pred_2, c='green', label='Polynomial Regression, st. 2')\n",
        "plt.legend()\n",
        "plt.show()"
      ],
      "execution_count": 110,
      "outputs": [
        {
          "output_type": "display_data",
          "data": {
            "image/png": "[encoded data removed]",
            "text/plain": [
              "<Figure size 576x432 with 1 Axes>"
            ]
          },
          "metadata": {
            "tags": []
          }
        }
      ]
    },
    {
      "cell_type": "code",
      "metadata": {
        "id": "Irq2p3jC2TbI",
        "colab_type": "code",
        "colab": {}
      },
      "source": [
        "\n",
        "\n",
        "from sklearn.metrics import mean_absolute_error as mae\n",
        "from sklearn.metrics import mean_squared_error as mse\n",
        "from sklearn.metrics import r2_score\n"
      ],
      "execution_count": 111,
      "outputs": []
    },
    {
      "cell_type": "code",
      "metadata": {
        "id": "TeF-zW1j2zo4",
        "colab_type": "code",
        "colab": {}
      },
      "source": [
        "target1_pred_lin = regressor.predict(data1)"
      ],
      "execution_count": 112,
      "outputs": []
    },
    {
      "cell_type": "code",
      "metadata": {
        "id": "1XtDvmnl2irG",
        "colab_type": "code",
        "colab": {
          "base_uri": "https://localhost:8080/",
          "height": 112
        },
        "outputId": "dc7311cc-a54d-4390-8cfc-ba7df535e86f"
      },
      "source": [
        "results = pd.DataFrame(data={\n",
        "    'name': ['Linear regression', 'Polynomial regression with degree=2'],\n",
        "    'r2_score': [r2_score(target1, target1_pred_lin), r2_score(target1, target1_pred_2)],\n",
        "    'mae': [mae(target1, target1_pred_lin), mae(target1, target1_pred_2)],\n",
        "    'mse': [mse(target1, target1_pred_lin), mse(target1, target1_pred_2)]\n",
        "        \n",
        "    })\n",
        "results"
      ],
      "execution_count": 113,
      "outputs": [
        {
          "output_type": "execute_result",
          "data": {
            "text/html": [
              "<div>\n",
              "<style scoped>\n",
              "    .dataframe tbody tr th:only-of-type {\n",
              "        vertical-align: middle;\n",
              "    }\n",
              "\n",
              "    .dataframe tbody tr th {\n",
              "        vertical-align: top;\n",
              "    }\n",
              "\n",
              "    .dataframe thead th {\n",
              "        text-align: right;\n",
              "    }\n",
              "</style>\n",
              "<table border=\"1\" class=\"dataframe\">\n",
              "  <thead>\n",
              "    <tr style=\"text-align: right;\">\n",
              "      <th></th>\n",
              "      <th>name</th>\n",
              "      <th>r2_score</th>\n",
              "      <th>mae</th>\n",
              "      <th>mse</th>\n",
              "    </tr>\n",
              "  </thead>\n",
              "  <tbody>\n",
              "    <tr>\n",
              "      <th>0</th>\n",
              "      <td>Linear regression</td>\n",
              "      <td>0.955537</td>\n",
              "      <td>4310.596195</td>\n",
              "      <td>2.486440e+07</td>\n",
              "    </tr>\n",
              "    <tr>\n",
              "      <th>1</th>\n",
              "      <td>Polynomial regression with degree=2</td>\n",
              "      <td>0.995433</td>\n",
              "      <td>1452.042777</td>\n",
              "      <td>2.553949e+06</td>\n",
              "    </tr>\n",
              "  </tbody>\n",
              "</table>\n",
              "</div>"
            ],
            "text/plain": [
              "                                  name  r2_score          mae           mse\n",
              "0                    Linear regression  0.955537  4310.596195  2.486440e+07\n",
              "1  Polynomial regression with degree=2  0.995433  1452.042777  2.553949e+06"
            ]
          },
          "metadata": {
            "tags": []
          },
          "execution_count": 113
        }
      ]
    },
    {
      "cell_type": "markdown",
      "metadata": {
        "id": "3UoArKy427pu",
        "colab_type": "text"
      },
      "source": [
        "Clustering"
      ]
    },
    {
      "cell_type": "code",
      "metadata": {
        "id": "rCLA3dnjvYwL",
        "colab_type": "code",
        "colab": {}
      },
      "source": [
        "X= raw_data.iloc[:, [2,12]].values"
      ],
      "execution_count": 128,
      "outputs": []
    },
    {
      "cell_type": "code",
      "metadata": {
        "id": "Tm8PLrXivDCz",
        "colab_type": "code",
        "colab": {
          "base_uri": "https://localhost:8080/",
          "height": 291
        },
        "outputId": "af4925c7-7f96-4862-a3c6-30be4c77adba"
      },
      "source": [
        "#Visualise data points\n",
        "plt.scatter(X[:,0],X[:,1],c='black')\n",
        "plt.xlabel('age')\n",
        "plt.ylabel('salary')\n",
        "plt.show()"
      ],
      "execution_count": 129,
      "outputs": [
        {
          "output_type": "display_data",
          "data": {
            "image/png": "[encoded data removed]",
            "text/plain": [
              "<Figure size 432x288 with 1 Axes>"
            ]
          },
          "metadata": {
            "tags": []
          }
        }
      ]
    },
    {
      "cell_type": "code",
      "metadata": {
        "id": "OAgoYv_lwpr9",
        "colab_type": "code",
        "colab": {
          "base_uri": "https://localhost:8080/",
          "height": 371
        },
        "outputId": "71a23140-67ce-40ba-a270-1a874e5083e8"
      },
      "source": [
        "\n",
        "from sklearn.cluster import KMeans\n",
        "kmeans5 = KMeans(n_clusters=5)\n",
        "y_kmeans5 = kmeans5.fit_predict(X)\n",
        "print(y_kmeans5)\n",
        "\n",
        "kmeans5.cluster_centers_\n",
        "\n"
      ],
      "execution_count": null,
      "outputs": [
        {
          "output_type": "stream",
          "text": [
            "[2 3 1 0 0 3 2 4 3 3 1 0 3 3 2 2 4 1 4 2 0 2 1 2 1 1 1 1 1 0 4 3 4 1 0 2 0\n",
            " 1 0 0 1 0 3 3 0 2 1 3 2 0 2 4 3 0 1 0 1 0 2 2 2 4 1 2 4 1 0 4 3 4 4 1 0 3\n",
            " 2 2 4 1 1 2 3 0 3 0 2 0 1 4 4 2 1 3 1 4 4 1 1 4 3 2 2 1 2 4 4 1 1 1 3 2 1\n",
            " 0 0 4 2 1 0 2 4 3 2 2 3 2 4 4 3 1 0 1 2 0 3 3 0 4 0 2 4 3 0 1 1 2 1 0 0 1\n",
            " 0 2 4 2 2 0 4 0 3 0 0 0 4 0 4 1 3 4 1 4 4 3 2 2 4 0 1 0 0 4 4 4 4 2 4 2 2\n",
            " 4 3 1 0 2 1 3 0 0 2 4 3 2 3 4 4 2 4 1 0 2 3 1 2 4 4 4 4 3 1 0 3 3 0 0 4 3\n",
            " 2 0 0 1 2 2 0 4 1 2 0 2 1 1 3 0 1 3 3 2 2 3 2 1 4 1 3 3 1 2 2 3 0 2 1 2 1\n",
            " 3 2 1 3 0 1 0 0 4 2 1 0 4 3 1 0 2 4 0 2 0 1 1 1 4 1 2 0 3 2 2 1 4 0 4 0 0\n",
            " 4 2 0 4 0 3 2 1 0 3 1 1 0 4 0 3 1 0 4 0 2 4 3 1 0 4 2 4 2 3 1 3 0 4 2 2 4\n",
            " 4 0 3 2 0 3 0 2 4 4 3 1 3 1 0 0 2 1 2 4 1 3 4 4 3 4 1 2 4 1 0 1 2 1 3 2 0\n",
            " 3 1 2 0 3 0 1 0 4 3 0 1 1 0 1 2 2 2 4 0 4 1 4 1 1 3 2 1 3 2 1 1 4 4 2 1 0\n",
            " 4 2 1 1 0 2 1 4 0 2 0 4 2 0 3 4 4 4 3 3 1 0 1 0 3 3 1 2 1 0 1 4 0 0 2 3 0\n",
            " 3 1 4 2 3 0 3 0 3 0 1 0 0 4 0 4 2 4 1 4 2 1 3 3 4 4 2 2 0 2 0 1 4 1 2 1 1\n",
            " 1 2 1 0 2 1 2 3 0 1 3 3 2 3 0 0 4 0 3]\n"
          ],
          "name": "stdout"
        },
        {
          "output_type": "execute_result",
          "data": {
            "text/plain": [
              "array([[3.88909091e+01, 2.98050000e+04],\n",
              "       [3.76545455e+01, 6.57150000e+04],\n",
              "       [3.85145631e+01, 8.67500000e+04],\n",
              "       [3.82317073e+01, 4.24190000e+04],\n",
              "       [3.98210526e+01, 2.40760000e+04]])"
            ]
          },
          "metadata": {
            "tags": []
          },
          "execution_count": 49
        }
      ]
    },
    {
      "cell_type": "code",
      "metadata": {
        "id": "wVFaiaATw0z1",
        "colab_type": "code",
        "colab": {
          "base_uri": "https://localhost:8080/",
          "height": 309
        },
        "outputId": "26a99d20-8551-4788-f7ea-abe8f5c134b5"
      },
      "source": [
        "\n",
        "\n",
        "Error =[]\n",
        "for i in range(1, 11):\n",
        "    kmeans = KMeans(n_clusters = i).fit(X)\n",
        "    kmeans.fit(X)\n",
        "    Error.append(kmeans.inertia_)\n",
        "import matplotlib.pyplot as plt\n",
        "plt.plot(range(1, 11), Error)\n",
        "plt.title('Elbow method')\n",
        "plt.xlabel('No of clusters')\n",
        "plt.ylabel('Error')\n",
        "plt.show()\n",
        "\n"
      ],
      "execution_count": null,
      "outputs": [
        {
          "output_type": "display_data",
          "data": {
            "image/png": "[encoded data removed]",
            "text/plain": [
              "<Figure size 432x288 with 1 Axes>"
            ]
          },
          "metadata": {
            "tags": []
          }
        }
      ]
    },
    {
      "cell_type": "code",
      "metadata": {
        "id": "yhaKgzFDw7IK",
        "colab_type": "code",
        "colab": {}
      },
      "source": [
        "kmeansmodel = KMeans(n_clusters= 4)\n",
        "y_kmeans= kmeansmodel.fit_predict(X)"
      ],
      "execution_count": null,
      "outputs": []
    },
    {
      "cell_type": "code",
      "metadata": {
        "id": "eiONUtiCw8jJ",
        "colab_type": "code",
        "colab": {
          "base_uri": "https://localhost:8080/",
          "height": 203
        },
        "outputId": "e70e7d75-46d9-4c14-bb9d-86d1d43962d1"
      },
      "source": [
        "kmeans.cluster_centers_"
      ],
      "execution_count": null,
      "outputs": [
        {
          "output_type": "execute_result",
          "data": {
            "text/plain": [
              "array([[4.62456140e+01, 2.98050000e+04],\n",
              "       [3.07164179e+01, 6.57150000e+04],\n",
              "       [4.68627451e+01, 8.67500000e+04],\n",
              "       [4.56279070e+01, 4.24190000e+04],\n",
              "       [4.57580645e+01, 2.40760000e+04],\n",
              "       [3.09811321e+01, 2.98050000e+04],\n",
              "       [4.84651163e+01, 6.57150000e+04],\n",
              "       [3.03269231e+01, 8.67500000e+04],\n",
              "       [3.00769231e+01, 4.24190000e+04],\n",
              "       [2.86666667e+01, 2.40760000e+04]])"
            ]
          },
          "metadata": {
            "tags": []
          },
          "execution_count": 52
        }
      ]
    },
    {
      "cell_type": "code",
      "metadata": {
        "id": "n1A9PYKfw_L-",
        "colab_type": "code",
        "colab": {
          "base_uri": "https://localhost:8080/",
          "height": 291
        },
        "outputId": "b780a3b7-09a9-4d60-d637-ddcd2c9172d1"
      },
      "source": [
        "plt.scatter(X[:, 0], X[:, 1], s = 300, c = y_kmeans, cmap='rainbow')"
      ],
      "execution_count": null,
      "outputs": [
        {
          "output_type": "execute_result",
          "data": {
            "text/plain": [
              "<matplotlib.collections.PathCollection at 0x7f707702cf60>"
            ]
          },
          "metadata": {
            "tags": []
          },
          "execution_count": 53
        },
        {
          "output_type": "display_data",
          "data": {
            "image/png": "[encoded data removed]",
            "text/plain": [
              "<Figure size 432x288 with 1 Axes>"
            ]
          },
          "metadata": {
            "tags": []
          }
        }
      ]
    }
  ]
}